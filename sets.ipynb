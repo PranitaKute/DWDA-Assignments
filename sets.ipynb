{
 "cells": [
  {
   "cell_type": "code",
   "execution_count": 10,
   "id": "370dc065",
   "metadata": {},
   "outputs": [
    {
     "name": "stdout",
     "output_type": "stream",
     "text": [
      "{1, 2, 3, 4}\n"
     ]
    }
   ],
   "source": [
    "#sets: It is unordered, iterable, mutable & has no duplicate elements\n",
    "type({1,2,3,4,'Pranita'})\n",
    "print(set([1,2,3,4,4]))\n",
    "#In the above set 4 is duplicate\n"
   ]
  },
  {
   "cell_type": "code",
   "execution_count": 25,
   "id": "8a55113b",
   "metadata": {},
   "outputs": [
    {
     "name": "stdout",
     "output_type": "stream",
     "text": [
      "<class 'set'>\n",
      "set()\n",
      "Sets can be defined using {} brackets: {8, 2, 4, 6}\n",
      "<class 'set'>\n",
      "Sets with string elements: {'Inosuke', 'Nezuko', 'Tanjiro', 'Zenitsu'}\n"
     ]
    }
   ],
   "source": [
    "#Defining empty set\n",
    "set1 = set()\n",
    "print(type(set1))\n",
    "print(set1)\n",
    "#Defining set\n",
    "set2 = {2,1,4,6,8}\n",
    "print(\"Sets can be defined using {} brackets:\",set2)\n",
    "#sets can contain both string & integer values\n",
    "set3 = {'Zenitsu','Nezuko','Inosuke','Tanjiro'}\n",
    "print(type(set3))\n",
    "print(\"Sets with string elements:\",set3)"
   ]
  },
  {
   "cell_type": "code",
   "execution_count": 29,
   "id": "5c5d81db",
   "metadata": {},
   "outputs": [
    {
     "data": {
      "text/plain": [
       "{'Giyu', 'Inosuke', 'Nezuko', 'Tanjiro', 'Zenitsu'}"
      ]
     },
     "execution_count": 29,
     "metadata": {},
     "output_type": "execute_result"
    }
   ],
   "source": [
    "set3.add('Giyu')\n",
    "set3"
   ]
  },
  {
   "cell_type": "code",
   "execution_count": 22,
   "id": "73e66c76",
   "metadata": {},
   "outputs": [
    {
     "name": "stdout",
     "output_type": "stream",
     "text": [
      "Inosuke\n",
      "Nezuko\n",
      "Tanjiro\n",
      "Zenitsu\n"
     ]
    }
   ],
   "source": [
    "#iteration\n",
    "for i in set3:\n",
    "    print(i)"
   ]
  },
  {
   "cell_type": "code",
   "execution_count": 23,
   "id": "7dcbaf9a",
   "metadata": {},
   "outputs": [
    {
     "ename": "TypeError",
     "evalue": "'set' object is not subscriptable",
     "output_type": "error",
     "traceback": [
      "\u001b[1;31m---------------------------------------------------------------------------\u001b[0m",
      "\u001b[1;31mTypeError\u001b[0m                                 Traceback (most recent call last)",
      "Cell \u001b[1;32mIn[23], line 2\u001b[0m\n\u001b[0;32m      1\u001b[0m \u001b[38;5;66;03m#set doesn't support Indexing,i.e,no assigning\u001b[39;00m\n\u001b[1;32m----> 2\u001b[0m set3[\u001b[38;5;241m2\u001b[39m]\n",
      "\u001b[1;31mTypeError\u001b[0m: 'set' object is not subscriptable"
     ]
    }
   ],
   "source": [
    "#set doesn't support Indexing,i.e,no assigning\n",
    "set3[2]"
   ]
  },
  {
   "cell_type": "code",
   "execution_count": 50,
   "id": "3eb7a108",
   "metadata": {},
   "outputs": [
    {
     "name": "stdout",
     "output_type": "stream",
     "text": [
      "Intersection of set1 & set 2: {1, 2, 4}\n",
      "Difference in set1 & set2: {1, 2, 4}\n"
     ]
    }
   ],
   "source": [
    "#intersection \n",
    "set01 = {2,3,4,1}\n",
    "set02 = {2,5,4,1}\n",
    "set02.intersection_update(set01)\n",
    "print(\"Intersection of set1 & set 2:\", set02)\n",
    "\n",
    "#difference update\n",
    "set02.difference_update(set01)\n",
    "print(\"Difference in set1 & set2:\",set02)"
   ]
  },
  {
   "cell_type": "code",
   "execution_count": 59,
   "id": "3cd75a24",
   "metadata": {},
   "outputs": [
    {
     "data": {
      "text/plain": [
       "True"
      ]
     },
     "execution_count": 59,
     "metadata": {},
     "output_type": "execute_result"
    }
   ],
   "source": [
    "#Subset & superset\n",
    "set02.issubset(set01)"
   ]
  },
  {
   "cell_type": "code",
   "execution_count": 60,
   "id": "c1402983",
   "metadata": {},
   "outputs": [
    {
     "data": {
      "text/plain": [
       "False"
      ]
     },
     "execution_count": 60,
     "metadata": {},
     "output_type": "execute_result"
    }
   ],
   "source": [
    "set02.issuperset(set01)"
   ]
  },
  {
   "cell_type": "code",
   "execution_count": null,
   "id": "3413f9e4",
   "metadata": {},
   "outputs": [],
   "source": []
  }
 ],
 "metadata": {
  "kernelspec": {
   "display_name": "Python 3 (ipykernel)",
   "language": "python",
   "name": "python3"
  },
  "language_info": {
   "codemirror_mode": {
    "name": "ipython",
    "version": 3
   },
   "file_extension": ".py",
   "mimetype": "text/x-python",
   "name": "python",
   "nbconvert_exporter": "python",
   "pygments_lexer": "ipython3",
   "version": "3.11.5"
  }
 },
 "nbformat": 4,
 "nbformat_minor": 5
}
